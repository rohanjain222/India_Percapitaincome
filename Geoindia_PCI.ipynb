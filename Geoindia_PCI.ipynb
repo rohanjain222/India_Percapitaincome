{
 "cells": [
  {
   "cell_type": "code",
   "execution_count": 2,
   "metadata": {},
   "outputs": [
    {
     "name": "stdout",
     "output_type": "stream",
     "text": [
      "Mean income: 12222.382352941177\n",
      "Median income: 11461.0\n"
     ]
    }
   ],
   "source": [
    "import requests\n",
    "from bs4 import BeautifulSoup\n",
    "import pandas as pd\n",
    "import re\n",
    "url = \"https://en.wikipedia.org/wiki/List_of_Indian_states_and_union_territories_by_GDP_per_capita\"\n",
    "response = requests.get(url)\n",
    "soup = BeautifulSoup(response.content, 'html.parser')\n",
    "table = soup.find('table', {'class': 'wikitable'})\n",
    "rows = table.find_all('tr')\n",
    "data = []\n",
    "for row in rows[1:]:\n",
    "    columns = row.find_all('td')\n",
    "    state = columns[1].text.strip()\n",
    "    income = columns[4].text.strip()\n",
    "    income = re.sub(r'\\$|,','',income)\n",
    "    data.append((state, float(income)))\n",
    "df = pd.DataFrame(data, columns=['State', 'Per Capita Income'])\n",
    "df.to_csv('per_capita_income.csv', index=False)\n",
    "mean_income = df['Per Capita Income'].mean()\n",
    "median_income = df['Per Capita Income'].median()\n",
    "print(f\"Mean income: {mean_income}\")\n",
    "print(f\"Median income: {median_income}\")"
   ]
  },
  {
   "cell_type": "code",
   "execution_count": 7,
   "metadata": {},
   "outputs": [
    {
     "name": "stdout",
     "output_type": "stream",
     "text": [
      "   DST_ID DISTRICT              STATE  \\\n",
      "0       1   Gilgit  JAMMU AND KASHMIR   \n",
      "1       2   Kargil  JAMMU AND KASHMIR   \n",
      "2       3   Ladakh  JAMMU AND KASHMIR   \n",
      "3       4   Chilas  JAMMU AND KASHMIR   \n",
      "4       5  Kupwara  JAMMU AND KASHMIR   \n",
      "\n",
      "                                            geometry  \n",
      "0  POLYGON ((74.30254 35.65012, 73.84581 35.82461...  \n",
      "1  POLYGON ((74.89890 35.62939, 75.04768 35.77413...  \n",
      "2  POLYGON ((75.98059 35.93823, 76.16165 35.91142...  \n",
      "3  POLYGON ((73.27244 35.81596, 73.32610 35.79237...  \n",
      "4  POLYGON ((74.30254 35.65012, 74.54015 35.50695...  \n"
     ]
    }
   ],
   "source": [
    "import geopandas as gpd\n",
    "import matplotlib.pyplot as plt\n",
    "shapefile_path = 'india_ds.shp'\n",
    "india = gpd.read_file(shapefile_path)\n",
    "print(india.head())"
   ]
  },
  {
   "cell_type": "code",
   "execution_count": 8,
   "metadata": {},
   "outputs": [
    {
     "data": {
      "image/png": "[encoded data removed]",
      "text/plain": [
       "<Figure size 720x720 with 2 Axes>"
      ]
     },
     "metadata": {
      "needs_background": "light"
     },
     "output_type": "display_data"
    }
   ],
   "source": [
    "merged = india.merge(df, left_on='STATE', right_on='State', how='left')\n",
    "\n",
    "fig, ax = plt.subplots(figsize=(10, 10))\n",
    "merged.plot(column='Per Capita Income', cmap='YlGnBu', linewidth=0.8, ax=ax, edgecolor='0.8', legend=True)\n",
    "ax.set_title('Per Capita Income in Indian States')\n",
    "plt.show()"
   ]
  },
  {
   "cell_type": "code",
   "execution_count": null,
   "metadata": {},
   "outputs": [],
   "source": []
  }
 ],
 "metadata": {
  "kernelspec": {
   "display_name": "Python 3",
   "language": "python",
   "name": "python3"
  },
  "language_info": {
   "codemirror_mode": {
    "name": "ipython",
    "version": 3
   },
   "file_extension": ".py",
   "mimetype": "text/x-python",
   "name": "python",
   "nbconvert_exporter": "python",
   "pygments_lexer": "ipython3",
   "version": "3.7.6"
  }
 },
 "nbformat": 4,
 "nbformat_minor": 4
}
